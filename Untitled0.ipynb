{
  "nbformat": 4,
  "nbformat_minor": 0,
  "metadata": {
    "colab": {
      "name": "Untitled0.ipynb",
      "provenance": [],
      "collapsed_sections": [],
      "authorship_tag": "ABX9TyN/sf4O4F3kNIEzScBq2Uwu",
      "include_colab_link": true
    },
    "kernelspec": {
      "name": "python3",
      "display_name": "Python 3"
    },
    "language_info": {
      "name": "python"
    }
  },
  "cells": [
    {
      "cell_type": "markdown",
      "metadata": {
        "id": "view-in-github",
        "colab_type": "text"
      },
      "source": [
        "<a href=\"https://colab.research.google.com/github/saivardhan4f0/NLP/blob/main/Untitled0.ipynb\" target=\"_parent\"><img src=\"https://colab.research.google.com/assets/colab-badge.svg\" alt=\"Open In Colab\"/></a>"
      ]
    },
    {
      "cell_type": "code",
      "execution_count": null,
      "metadata": {
        "colab": {
          "base_uri": "https://localhost:8080/"
        },
        "id": "hJ4wLzf4S5f3",
        "outputId": "7732c025-f436-4405-f666-ec7e38492e5b"
      },
      "outputs": [
        {
          "output_type": "stream",
          "name": "stdout",
          "text": [
            "TF-IDF Matrix Shape for DOC 1 & 2 is :  (2, 53)\n",
            "Cosine Similarity Matrix Between Documents 1 & 2 is : \n",
            "[[1.         0.26307297]\n",
            " [0.26307297 1.        ]]\n"
          ]
        }
      ],
      "source": [
        "\n",
        "Com1 = ['Text Simplification is the task of reducing the complexity of the vocabulary and sentence  structure  of  text  while  retaining  its  original  meaning,  with  the  goal  of improving readability and understanding.',\n",
        "'Sentiment Analysis is the process of determining whether a piece of writing is positive,  negative  or  neutral.  A  sentiment  analysis  system  for  text  analysis combines natural language processing (NLP) and machine learning techniques to assign  weighted  sentiment  scores  to  the  entities,  topics,  themes  and  categories within a sentence or phrase.']\n",
        "from sklearn.feature_extraction.text import TfidfVectorizer\n",
        "from sklearn.metrics.pairwise import cosine_similarity\n",
        "\n",
        "# Initialize an instance of tf-idf Vectorizer\n",
        "tfidf_vectorizer = TfidfVectorizer()\n",
        "\n",
        "# Generate the tf-idf vectors for the Documents 1 & 2, print the shape of the matrix and their cosine similarities\n",
        "tfidf_matrix12 = tfidf_vectorizer.fit_transform(Com1)\n",
        "print(\"TF-IDF Matrix Shape for DOC 1 & 2 is : \", tfidf_matrix12.shape)\n",
        "cosine_sim12 = cosine_similarity(tfidf_matrix12, tfidf_matrix12)\n",
        "print(\"Cosine Similarity Matrix Between Documents 1 & 2 is : \")\n",
        "print(cosine_sim12)"
      ]
    }
  ]
}